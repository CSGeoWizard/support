{
 "cells": [
  {
   "cell_type": "code",
   "execution_count": 1,
   "metadata": {
    "collapsed": true
   },
   "outputs": [],
   "source": [
    "import json\n",
    "\n",
    "def modify_twitter_json(json_file, twitter_val=0, keys=['type', 'start_date', 'end_date', 'search', 'n_tweets', 'kwList'], values=[]):\n",
    "    \"\"\"\n",
    "    json_file: JSON File to modify\n",
    "    twitter_val: index value in the JSON file\n",
    "    keys: dictionary containing [type, start_date, end_date, search, n_tweets, kwList]\n",
    "    values: dictionary containing new values for keys\n",
    "    \"\"\"\n",
    "\n",
    "    # you have to read the file to create the json object and then close it\n",
    "    # then open it again in write mode because otherwise the cursor will be\n",
    "    # at the end of the first file open that created the json file. Then,\n",
    "    # when you try to dump new data into it, it deletes all the data before\n",
    "    # the cursor and won't end up writing data because the object field\n",
    "    # will be deleted.\n",
    "\n",
    "    # open and load json file\n",
    "    file = open(json_file, \"r\")\n",
    "    json_object = json.load(file)\n",
    "    file.close()\n",
    "\n",
    "    # overwrite the current value in the json file with input data\n",
    "    file = open(json_file, \"w\")\n",
    "    # json_object[json_key] = new_value\n",
    "    for i in range(len(keys)):\n",
    "        json_object['twitter']['search_list'][twitter_val][keys[i]] = values[i]\n",
    "        json_object['twitter']['search_list'][twitter_val][keys[i]] = values[i]\n",
    "        json_object['twitter']['search_list'][twitter_val][keys[i]] = values[i]\n",
    "        json_object['twitter']['search_list'][twitter_val][keys[i]] = values[i]\n",
    "        json_object['twitter']['search_list'][twitter_val][keys[i]] = values[i]\n",
    "        json_object['twitter']['search_list'][twitter_val][keys[i]] = values[i]\n",
    "    json.dump(json_object, file, indent=4)\n",
    "    file.close()"
   ]
  },
  {
   "cell_type": "markdown",
   "source": [],
   "metadata": {
    "collapsed": false
   }
  },
  {
   "cell_type": "code",
   "execution_count": 2,
   "outputs": [
    {
     "ename": "IndexError",
     "evalue": "list index out of range",
     "output_type": "error",
     "traceback": [
      "\u001B[1;31m---------------------------------------------------------------------------\u001B[0m",
      "\u001B[1;31mIndexError\u001B[0m                                Traceback (most recent call last)",
      "Input \u001B[1;32mIn [2]\u001B[0m, in \u001B[0;36m<cell line: 1>\u001B[1;34m()\u001B[0m\n\u001B[1;32m----> 1\u001B[0m \u001B[43mmodify_twitter_json\u001B[49m\u001B[43m(\u001B[49m\u001B[38;5;124;43m'\u001B[39;49m\u001B[38;5;124;43mconfig_nb.json\u001B[39;49m\u001B[38;5;124;43m'\u001B[39;49m\u001B[43m,\u001B[49m\u001B[43m \u001B[49m\u001B[43mtwitter_val\u001B[49m\u001B[38;5;241;43m=\u001B[39;49m\u001B[38;5;241;43m30\u001B[39;49m\u001B[43m,\u001B[49m\u001B[43m \u001B[49m\u001B[43mkeys\u001B[49m\u001B[38;5;241;43m=\u001B[39;49m\u001B[43m[\u001B[49m\u001B[38;5;124;43m'\u001B[39;49m\u001B[38;5;124;43mtype\u001B[39;49m\u001B[38;5;124;43m'\u001B[39;49m\u001B[43m,\u001B[49m\u001B[43m \u001B[49m\u001B[38;5;124;43m'\u001B[39;49m\u001B[38;5;124;43mstart_date\u001B[39;49m\u001B[38;5;124;43m'\u001B[39;49m\u001B[43m,\u001B[49m\u001B[43m \u001B[49m\u001B[38;5;124;43m'\u001B[39;49m\u001B[38;5;124;43mend_date\u001B[39;49m\u001B[38;5;124;43m'\u001B[39;49m\u001B[43m,\u001B[49m\u001B[43m \u001B[49m\u001B[38;5;124;43m'\u001B[39;49m\u001B[38;5;124;43msearch\u001B[39;49m\u001B[38;5;124;43m'\u001B[39;49m\u001B[43m,\u001B[49m\u001B[43m \u001B[49m\u001B[38;5;124;43m'\u001B[39;49m\u001B[38;5;124;43mn_tweets\u001B[39;49m\u001B[38;5;124;43m'\u001B[39;49m\u001B[43m,\u001B[49m\u001B[43m \u001B[49m\u001B[38;5;124;43m'\u001B[39;49m\u001B[38;5;124;43mkwList\u001B[39;49m\u001B[38;5;124;43m'\u001B[39;49m\u001B[43m]\u001B[49m\u001B[43m,\u001B[49m\u001B[43m \u001B[49m\u001B[43mvalues\u001B[49m\u001B[38;5;241;43m=\u001B[39;49m\u001B[43m[\u001B[49m\u001B[38;5;124;43m'\u001B[39;49m\u001B[38;5;124;43mtrying\u001B[39;49m\u001B[38;5;124;43m'\u001B[39;49m\u001B[43m,\u001B[49m\u001B[43m \u001B[49m\u001B[38;5;124;43m'\u001B[39;49m\u001B[38;5;124;43mit\u001B[39;49m\u001B[38;5;124;43m'\u001B[39;49m\u001B[43m,\u001B[49m\u001B[43m \u001B[49m\u001B[38;5;124;43m'\u001B[39;49m\u001B[38;5;124;43mwith\u001B[39;49m\u001B[38;5;124;43m'\u001B[39;49m\u001B[43m,\u001B[49m\u001B[43m \u001B[49m\u001B[38;5;124;43m'\u001B[39;49m\u001B[38;5;124;43m22\u001B[39;49m\u001B[38;5;124;43m'\u001B[39;49m\u001B[43m,\u001B[49m\u001B[43m \u001B[49m\u001B[38;5;124;43m'\u001B[39;49m\u001B[38;5;124;43mnow\u001B[39;49m\u001B[38;5;124;43m'\u001B[39;49m\u001B[43m,\u001B[49m\u001B[43m \u001B[49m\u001B[38;5;124;43m'\u001B[39;49m\u001B[38;5;124;43mboy\u001B[39;49m\u001B[38;5;124;43m'\u001B[39;49m\u001B[43m]\u001B[49m\u001B[43m)\u001B[49m\n",
      "Input \u001B[1;32mIn [1]\u001B[0m, in \u001B[0;36mmodify_twitter_json\u001B[1;34m(json_file, twitter_val, keys, values)\u001B[0m\n\u001B[0;32m     25\u001B[0m \u001B[38;5;66;03m# json_object[json_key] = new_value\u001B[39;00m\n\u001B[0;32m     26\u001B[0m \u001B[38;5;28;01mfor\u001B[39;00m i \u001B[38;5;129;01min\u001B[39;00m \u001B[38;5;28mrange\u001B[39m(\u001B[38;5;28mlen\u001B[39m(keys)):\n\u001B[1;32m---> 27\u001B[0m     \u001B[43mjson_object\u001B[49m\u001B[43m[\u001B[49m\u001B[38;5;124;43m'\u001B[39;49m\u001B[38;5;124;43mtwitter\u001B[39;49m\u001B[38;5;124;43m'\u001B[39;49m\u001B[43m]\u001B[49m\u001B[43m[\u001B[49m\u001B[38;5;124;43m'\u001B[39;49m\u001B[38;5;124;43msearch_list\u001B[39;49m\u001B[38;5;124;43m'\u001B[39;49m\u001B[43m]\u001B[49m\u001B[43m[\u001B[49m\u001B[43mtwitter_val\u001B[49m\u001B[43m]\u001B[49m[keys[i]] \u001B[38;5;241m=\u001B[39m values[i]\n\u001B[0;32m     28\u001B[0m     json_object[\u001B[38;5;124m'\u001B[39m\u001B[38;5;124mtwitter\u001B[39m\u001B[38;5;124m'\u001B[39m][\u001B[38;5;124m'\u001B[39m\u001B[38;5;124msearch_list\u001B[39m\u001B[38;5;124m'\u001B[39m][twitter_val][keys[i]] \u001B[38;5;241m=\u001B[39m values[i]\n\u001B[0;32m     29\u001B[0m     json_object[\u001B[38;5;124m'\u001B[39m\u001B[38;5;124mtwitter\u001B[39m\u001B[38;5;124m'\u001B[39m][\u001B[38;5;124m'\u001B[39m\u001B[38;5;124msearch_list\u001B[39m\u001B[38;5;124m'\u001B[39m][twitter_val][keys[i]] \u001B[38;5;241m=\u001B[39m values[i]\n",
      "\u001B[1;31mIndexError\u001B[0m: list index out of range"
     ]
    }
   ],
   "source": [
    "modify_twitter_json('config_nb.json', twitter_val=30, keys=['type', 'start_date', 'end_date', 'search', 'n_tweets', 'kwList'], values=['trying', 'it', 'with', '22', 'now', 'boy'])"
   ],
   "metadata": {
    "collapsed": false
   }
  },
  {
   "cell_type": "code",
   "execution_count": 3,
   "outputs": [],
   "source": [
    "def modify_twitter_json2(json_file, keys=['type', 'start_date', 'end_date', 'search', 'n_tweets', 'kwList'], values=[]):\n",
    "    \"\"\"\n",
    "    json_file: JSON File to modify\n",
    "    twitter_val: index value in the JSON file\n",
    "    keys: dictionary containing [type, start_date, end_date, search, n_tweets, kwList]\n",
    "    values: dictionary containing new values for keys\n",
    "    \"\"\"\n",
    "\n",
    "    # you have to read the file to create the json object and then close it\n",
    "    # then open it again in write mode because otherwise the cursor will be\n",
    "    # at the end of the first file open that created the json file. Then,\n",
    "    # when you try to dump new data into it, it deletes all the data before\n",
    "    # the cursor and won't end up writing data because the object field\n",
    "    # will be deleted.\n",
    "\n",
    "    new_search = {keys[0]: values[0], keys[1]: values[1], keys[2]: values[2], keys[3]: values[3],\n",
    "                                  keys[4]: values[4], keys[5]: values[5]}\n",
    "\n",
    "    # open and load json file\n",
    "    file = open(json_file, \"r\")\n",
    "    json_object = json.load(file)\n",
    "    file.close()\n",
    "\n",
    "    # overwrite the current value in the json file with input data\n",
    "    file = open(json_file, \"w\")\n",
    "    # json_object[json_key] = new_value\n",
    "    json_object['twitter']['search_list'].append(new_search)\n",
    "    json.dump(json_object, file, indent=4)\n",
    "    file.close()"
   ],
   "metadata": {
    "collapsed": false
   }
  },
  {
   "cell_type": "code",
   "execution_count": 42,
   "outputs": [
    {
     "ename": "JSONDecodeError",
     "evalue": "Expecting value: line 1 column 1 (char 0)",
     "output_type": "error",
     "traceback": [
      "\u001B[1;31m---------------------------------------------------------------------------\u001B[0m",
      "\u001B[1;31mJSONDecodeError\u001B[0m                           Traceback (most recent call last)",
      "Input \u001B[1;32mIn [42]\u001B[0m, in \u001B[0;36m<cell line: 1>\u001B[1;34m()\u001B[0m\n\u001B[1;32m----> 1\u001B[0m \u001B[43mmodify_twitter_json2\u001B[49m\u001B[43m(\u001B[49m\u001B[38;5;124;43m'\u001B[39;49m\u001B[38;5;124;43mconfig_nb.json\u001B[39;49m\u001B[38;5;124;43m'\u001B[39;49m\u001B[43m,\u001B[49m\u001B[43m \u001B[49m\u001B[43mkeys\u001B[49m\u001B[38;5;241;43m=\u001B[39;49m\u001B[43m[\u001B[49m\u001B[38;5;124;43m'\u001B[39;49m\u001B[38;5;124;43mtype\u001B[39;49m\u001B[38;5;124;43m'\u001B[39;49m\u001B[43m,\u001B[49m\u001B[43m \u001B[49m\u001B[38;5;124;43m'\u001B[39;49m\u001B[38;5;124;43mstart_date\u001B[39;49m\u001B[38;5;124;43m'\u001B[39;49m\u001B[43m,\u001B[49m\u001B[43m \u001B[49m\u001B[38;5;124;43m'\u001B[39;49m\u001B[38;5;124;43mend_date\u001B[39;49m\u001B[38;5;124;43m'\u001B[39;49m\u001B[43m,\u001B[49m\u001B[43m \u001B[49m\u001B[38;5;124;43m'\u001B[39;49m\u001B[38;5;124;43msearch\u001B[39;49m\u001B[38;5;124;43m'\u001B[39;49m\u001B[43m,\u001B[49m\u001B[43m \u001B[49m\u001B[38;5;124;43m'\u001B[39;49m\u001B[38;5;124;43mn_tweets\u001B[39;49m\u001B[38;5;124;43m'\u001B[39;49m\u001B[43m,\u001B[49m\u001B[43m \u001B[49m\u001B[38;5;124;43m'\u001B[39;49m\u001B[38;5;124;43mkwList\u001B[39;49m\u001B[38;5;124;43m'\u001B[39;49m\u001B[43m]\u001B[49m\u001B[43m,\u001B[49m\u001B[43m \u001B[49m\u001B[43mvalues\u001B[49m\u001B[38;5;241;43m=\u001B[39;49m\u001B[43m[\u001B[49m\u001B[38;5;124;43m'\u001B[39;49m\u001B[38;5;124;43mmodifying\u001B[39;49m\u001B[38;5;124;43m'\u001B[39;49m\u001B[43m,\u001B[49m\u001B[43m \u001B[49m\u001B[38;5;124;43m'\u001B[39;49m\u001B[38;5;124;43mby\u001B[39;49m\u001B[38;5;124;43m'\u001B[39;49m\u001B[43m,\u001B[49m\u001B[43m \u001B[49m\u001B[38;5;124;43m'\u001B[39;49m\u001B[38;5;124;43mappending\u001B[39;49m\u001B[38;5;124;43m'\u001B[39;49m\u001B[43m,\u001B[49m\u001B[43m \u001B[49m\u001B[38;5;124;43m'\u001B[39;49m\u001B[38;5;124;43mto\u001B[39;49m\u001B[38;5;124;43m'\u001B[39;49m\u001B[43m,\u001B[49m\u001B[43m \u001B[49m\u001B[38;5;124;43m'\u001B[39;49m\u001B[38;5;124;43mthe\u001B[39;49m\u001B[38;5;124;43m'\u001B[39;49m\u001B[43m,\u001B[49m\u001B[43m \u001B[49m\u001B[38;5;124;43m'\u001B[39;49m\u001B[38;5;124;43mjson\u001B[39;49m\u001B[38;5;124;43m'\u001B[39;49m\u001B[43m]\u001B[49m\u001B[43m)\u001B[49m\n",
      "Input \u001B[1;32mIn [3]\u001B[0m, in \u001B[0;36mmodify_twitter_json2\u001B[1;34m(json_file, keys, values)\u001B[0m\n\u001B[0;32m     19\u001B[0m \u001B[38;5;66;03m# open and load json file\u001B[39;00m\n\u001B[0;32m     20\u001B[0m file \u001B[38;5;241m=\u001B[39m \u001B[38;5;28mopen\u001B[39m(json_file, \u001B[38;5;124m\"\u001B[39m\u001B[38;5;124mr\u001B[39m\u001B[38;5;124m\"\u001B[39m)\n\u001B[1;32m---> 21\u001B[0m json_object \u001B[38;5;241m=\u001B[39m \u001B[43mjson\u001B[49m\u001B[38;5;241;43m.\u001B[39;49m\u001B[43mload\u001B[49m\u001B[43m(\u001B[49m\u001B[43mfile\u001B[49m\u001B[43m)\u001B[49m\n\u001B[0;32m     22\u001B[0m file\u001B[38;5;241m.\u001B[39mclose()\n\u001B[0;32m     24\u001B[0m \u001B[38;5;66;03m# overwrite the current value in the json file with input data\u001B[39;00m\n",
      "File \u001B[1;32m~\\anaconda3\\envs\\Intel_support\\lib\\json\\__init__.py:293\u001B[0m, in \u001B[0;36mload\u001B[1;34m(fp, cls, object_hook, parse_float, parse_int, parse_constant, object_pairs_hook, **kw)\u001B[0m\n\u001B[0;32m    274\u001B[0m \u001B[38;5;28;01mdef\u001B[39;00m \u001B[38;5;21mload\u001B[39m(fp, \u001B[38;5;241m*\u001B[39m, \u001B[38;5;28mcls\u001B[39m\u001B[38;5;241m=\u001B[39m\u001B[38;5;28;01mNone\u001B[39;00m, object_hook\u001B[38;5;241m=\u001B[39m\u001B[38;5;28;01mNone\u001B[39;00m, parse_float\u001B[38;5;241m=\u001B[39m\u001B[38;5;28;01mNone\u001B[39;00m,\n\u001B[0;32m    275\u001B[0m         parse_int\u001B[38;5;241m=\u001B[39m\u001B[38;5;28;01mNone\u001B[39;00m, parse_constant\u001B[38;5;241m=\u001B[39m\u001B[38;5;28;01mNone\u001B[39;00m, object_pairs_hook\u001B[38;5;241m=\u001B[39m\u001B[38;5;28;01mNone\u001B[39;00m, \u001B[38;5;241m*\u001B[39m\u001B[38;5;241m*\u001B[39mkw):\n\u001B[0;32m    276\u001B[0m     \u001B[38;5;124;03m\"\"\"Deserialize ``fp`` (a ``.read()``-supporting file-like object containing\u001B[39;00m\n\u001B[0;32m    277\u001B[0m \u001B[38;5;124;03m    a JSON document) to a Python object.\u001B[39;00m\n\u001B[0;32m    278\u001B[0m \n\u001B[1;32m   (...)\u001B[0m\n\u001B[0;32m    291\u001B[0m \u001B[38;5;124;03m    kwarg; otherwise ``JSONDecoder`` is used.\u001B[39;00m\n\u001B[0;32m    292\u001B[0m \u001B[38;5;124;03m    \"\"\"\u001B[39;00m\n\u001B[1;32m--> 293\u001B[0m     \u001B[38;5;28;01mreturn\u001B[39;00m loads(fp\u001B[38;5;241m.\u001B[39mread(),\n\u001B[0;32m    294\u001B[0m         \u001B[38;5;28mcls\u001B[39m\u001B[38;5;241m=\u001B[39m\u001B[38;5;28mcls\u001B[39m, object_hook\u001B[38;5;241m=\u001B[39mobject_hook,\n\u001B[0;32m    295\u001B[0m         parse_float\u001B[38;5;241m=\u001B[39mparse_float, parse_int\u001B[38;5;241m=\u001B[39mparse_int,\n\u001B[0;32m    296\u001B[0m         parse_constant\u001B[38;5;241m=\u001B[39mparse_constant, object_pairs_hook\u001B[38;5;241m=\u001B[39mobject_pairs_hook, \u001B[38;5;241m*\u001B[39m\u001B[38;5;241m*\u001B[39mkw)\n",
      "File \u001B[1;32m~\\anaconda3\\envs\\Intel_support\\lib\\json\\__init__.py:346\u001B[0m, in \u001B[0;36mloads\u001B[1;34m(s, cls, object_hook, parse_float, parse_int, parse_constant, object_pairs_hook, **kw)\u001B[0m\n\u001B[0;32m    341\u001B[0m     s \u001B[38;5;241m=\u001B[39m s\u001B[38;5;241m.\u001B[39mdecode(detect_encoding(s), \u001B[38;5;124m'\u001B[39m\u001B[38;5;124msurrogatepass\u001B[39m\u001B[38;5;124m'\u001B[39m)\n\u001B[0;32m    343\u001B[0m \u001B[38;5;28;01mif\u001B[39;00m (\u001B[38;5;28mcls\u001B[39m \u001B[38;5;129;01mis\u001B[39;00m \u001B[38;5;28;01mNone\u001B[39;00m \u001B[38;5;129;01mand\u001B[39;00m object_hook \u001B[38;5;129;01mis\u001B[39;00m \u001B[38;5;28;01mNone\u001B[39;00m \u001B[38;5;129;01mand\u001B[39;00m\n\u001B[0;32m    344\u001B[0m         parse_int \u001B[38;5;129;01mis\u001B[39;00m \u001B[38;5;28;01mNone\u001B[39;00m \u001B[38;5;129;01mand\u001B[39;00m parse_float \u001B[38;5;129;01mis\u001B[39;00m \u001B[38;5;28;01mNone\u001B[39;00m \u001B[38;5;129;01mand\u001B[39;00m\n\u001B[0;32m    345\u001B[0m         parse_constant \u001B[38;5;129;01mis\u001B[39;00m \u001B[38;5;28;01mNone\u001B[39;00m \u001B[38;5;129;01mand\u001B[39;00m object_pairs_hook \u001B[38;5;129;01mis\u001B[39;00m \u001B[38;5;28;01mNone\u001B[39;00m \u001B[38;5;129;01mand\u001B[39;00m \u001B[38;5;129;01mnot\u001B[39;00m kw):\n\u001B[1;32m--> 346\u001B[0m     \u001B[38;5;28;01mreturn\u001B[39;00m \u001B[43m_default_decoder\u001B[49m\u001B[38;5;241;43m.\u001B[39;49m\u001B[43mdecode\u001B[49m\u001B[43m(\u001B[49m\u001B[43ms\u001B[49m\u001B[43m)\u001B[49m\n\u001B[0;32m    347\u001B[0m \u001B[38;5;28;01mif\u001B[39;00m \u001B[38;5;28mcls\u001B[39m \u001B[38;5;129;01mis\u001B[39;00m \u001B[38;5;28;01mNone\u001B[39;00m:\n\u001B[0;32m    348\u001B[0m     \u001B[38;5;28mcls\u001B[39m \u001B[38;5;241m=\u001B[39m JSONDecoder\n",
      "File \u001B[1;32m~\\anaconda3\\envs\\Intel_support\\lib\\json\\decoder.py:337\u001B[0m, in \u001B[0;36mJSONDecoder.decode\u001B[1;34m(self, s, _w)\u001B[0m\n\u001B[0;32m    332\u001B[0m \u001B[38;5;28;01mdef\u001B[39;00m \u001B[38;5;21mdecode\u001B[39m(\u001B[38;5;28mself\u001B[39m, s, _w\u001B[38;5;241m=\u001B[39mWHITESPACE\u001B[38;5;241m.\u001B[39mmatch):\n\u001B[0;32m    333\u001B[0m     \u001B[38;5;124;03m\"\"\"Return the Python representation of ``s`` (a ``str`` instance\u001B[39;00m\n\u001B[0;32m    334\u001B[0m \u001B[38;5;124;03m    containing a JSON document).\u001B[39;00m\n\u001B[0;32m    335\u001B[0m \n\u001B[0;32m    336\u001B[0m \u001B[38;5;124;03m    \"\"\"\u001B[39;00m\n\u001B[1;32m--> 337\u001B[0m     obj, end \u001B[38;5;241m=\u001B[39m \u001B[38;5;28;43mself\u001B[39;49m\u001B[38;5;241;43m.\u001B[39;49m\u001B[43mraw_decode\u001B[49m\u001B[43m(\u001B[49m\u001B[43ms\u001B[49m\u001B[43m,\u001B[49m\u001B[43m \u001B[49m\u001B[43midx\u001B[49m\u001B[38;5;241;43m=\u001B[39;49m\u001B[43m_w\u001B[49m\u001B[43m(\u001B[49m\u001B[43ms\u001B[49m\u001B[43m,\u001B[49m\u001B[43m \u001B[49m\u001B[38;5;241;43m0\u001B[39;49m\u001B[43m)\u001B[49m\u001B[38;5;241;43m.\u001B[39;49m\u001B[43mend\u001B[49m\u001B[43m(\u001B[49m\u001B[43m)\u001B[49m\u001B[43m)\u001B[49m\n\u001B[0;32m    338\u001B[0m     end \u001B[38;5;241m=\u001B[39m _w(s, end)\u001B[38;5;241m.\u001B[39mend()\n\u001B[0;32m    339\u001B[0m     \u001B[38;5;28;01mif\u001B[39;00m end \u001B[38;5;241m!=\u001B[39m \u001B[38;5;28mlen\u001B[39m(s):\n",
      "File \u001B[1;32m~\\anaconda3\\envs\\Intel_support\\lib\\json\\decoder.py:355\u001B[0m, in \u001B[0;36mJSONDecoder.raw_decode\u001B[1;34m(self, s, idx)\u001B[0m\n\u001B[0;32m    353\u001B[0m     obj, end \u001B[38;5;241m=\u001B[39m \u001B[38;5;28mself\u001B[39m\u001B[38;5;241m.\u001B[39mscan_once(s, idx)\n\u001B[0;32m    354\u001B[0m \u001B[38;5;28;01mexcept\u001B[39;00m \u001B[38;5;167;01mStopIteration\u001B[39;00m \u001B[38;5;28;01mas\u001B[39;00m err:\n\u001B[1;32m--> 355\u001B[0m     \u001B[38;5;28;01mraise\u001B[39;00m JSONDecodeError(\u001B[38;5;124m\"\u001B[39m\u001B[38;5;124mExpecting value\u001B[39m\u001B[38;5;124m\"\u001B[39m, s, err\u001B[38;5;241m.\u001B[39mvalue) \u001B[38;5;28;01mfrom\u001B[39;00m \u001B[38;5;28mNone\u001B[39m\n\u001B[0;32m    356\u001B[0m \u001B[38;5;28;01mreturn\u001B[39;00m obj, end\n",
      "\u001B[1;31mJSONDecodeError\u001B[0m: Expecting value: line 1 column 1 (char 0)"
     ]
    }
   ],
   "source": [
    "modify_twitter_json2('config_nb.json', keys=['type', 'start_date', 'end_date', 'search', 'n_tweets', 'kwList'], values=['modifying', 'by', 'appending', 'to', 'the', 'json'])"
   ],
   "metadata": {
    "collapsed": false
   }
  },
  {
   "cell_type": "code",
   "execution_count": 43,
   "outputs": [],
   "source": [
    "def create_empty_json(json_file):\n",
    "    file = open(json_file, \"r\")\n",
    "    json_object = json.load(file)\n",
    "    file.close()\n",
    "    blank_search = []\n",
    "    # overwrite the current value in the json file with input data\n",
    "    file = open(json_file, \"w\")\n",
    "    json_object['twitter']['search_list'] = blank_search\n",
    "    json_object['telegram']['search_list'] = blank_search\n",
    "    # json_object[json_key] = new_value\n",
    "    json.dump(json_object, file, indent=4)\n",
    "    file.close()"
   ],
   "metadata": {
    "collapsed": false
   }
  },
  {
   "cell_type": "code",
   "execution_count": 71,
   "outputs": [],
   "source": [
    "create_empty_json('config_nb.json')"
   ],
   "metadata": {
    "collapsed": false
   }
  },
  {
   "cell_type": "code",
   "execution_count": 45,
   "outputs": [],
   "source": [
    "modify_twitter_json2('config_nb.json', keys=['type', 'start_date', 'end_date', 'search', 'n_tweets', 'kwList'], values=['modifying', 'by', 'appending', 'to', 'the', 'json'])"
   ],
   "metadata": {
    "collapsed": false
   }
  },
  {
   "cell_type": "code",
   "execution_count": 61,
   "outputs": [
    {
     "name": "stdout",
     "output_type": "stream",
     "text": [
      "Not here\n"
     ]
    }
   ],
   "source": [
    "file = open(\"config_nb.json\", \"r\")\n",
    "try:\n",
    "    json_object = json.load(file)\n",
    "except:\n",
    "    print(\"Couldn't Open!\")\n",
    "file.close()\n",
    "\n",
    "if json_object:\n",
    "    print(\"I'm here!\")\n",
    "else:\n",
    "    print(\"Not here\")"
   ],
   "metadata": {
    "collapsed": false
   }
  },
  {
   "cell_type": "code",
   "execution_count": 77,
   "outputs": [
    {
     "name": "stdout",
     "output_type": "stream",
     "text": [
      "Trying to open the JSON file\n",
      "Reformatting JSON file\n"
     ]
    }
   ],
   "source": [
    "default_json = {\n",
    "    \"output_directory\": \"def\",\n",
    "    \"default_params\": {\n",
    "        \"start_date\": \"2022-08-01\",\n",
    "        \"end_date\": \"CURRENT\",\n",
    "        \"n_tweets\": 25,\n",
    "        \"default_kwList\": [\n",
    "            \"SS-26\",\n",
    "            \"bmp\",\n",
    "            \"S-400\",\n",
    "            \"SS-N-30\",\n",
    "            \"TOS-1A\",\n",
    "            \"kh-101\",\n",
    "            \"kh-102\",\n",
    "            \"SA-17\",\n",
    "            \"SA-27\",\n",
    "            \"SS-NX-33\",\n",
    "            \"Shahed-136\",\n",
    "            \"Shahed-236\",\n",
    "            \"Geran-2\",\n",
    "            \"Zoopark\",\n",
    "            \"rocket\",\n",
    "            \"ukraine\",\n",
    "            \"elon\"\n",
    "        ]\n",
    "    },\n",
    "    \"twitter\": {\n",
    "        \"output_type\": \"csv\",\n",
    "        \"search_list\": []\n",
    "    },\n",
    "    \"telegram\": {\n",
    "        \"output_type\": \"csv\",\n",
    "        \"search_list\": [],\n",
    "        \"translate_on\": \"True\"\n",
    "    }\n",
    "}\n",
    "\n",
    "file = open(\"config_nb.json\", \"r\")\n",
    "\n",
    "\n",
    "try:\n",
    "    print(\"Trying to open the JSON file\")\n",
    "    json_object = json.load(file)\n",
    "except:\n",
    "    print(\"Could not open JSON file\")\n",
    "else:\n",
    "    print(\"Reformatting JSON file\")\n",
    "    json_object = default_json\n",
    "file.close()\n",
    "\n",
    "file = open(\"config_nb.json\", \"w\")\n",
    "json.dump(json_object, file, indent=4)\n",
    "file.close()"
   ],
   "metadata": {
    "collapsed": false
   }
  },
  {
   "cell_type": "code",
   "execution_count": 54,
   "outputs": [],
   "source": [
    "import os\n",
    "\n",
    "def is_file_empty(file_path):\n",
    "    \"\"\" Check if file is empty by confirming if its size is 0 bytes\"\"\"\n",
    "    # Check if file exist and it is empty\n",
    "    return os.path.exists(file_path) and os.stat(file_path).st_size == 0\n",
    "\n",
    "def is_file_empty_2(file_name):\n",
    "    \"\"\" Check if file is empty by confirming if its size is 0 bytes\"\"\"\n",
    "    # Check if file exist and it is empty\n",
    "    return os.path.isfile(file_name) and os.path.getsize(file_name) == 0\n",
    "\n",
    "def is_file_empty_3(file_name):\n",
    "    \"\"\" Check if file is empty by reading first character in it\"\"\"\n",
    "    # open ile in read mode\n",
    "    with open(file_name, 'r') as read_obj:\n",
    "        # read first character\n",
    "        one_char = read_obj.read(1)\n",
    "        # if not fetched then file is empty\n",
    "        if not one_char:\n",
    "           return True\n",
    "    return False\n",
    "\n",
    "def check_file(json_file):\n",
    "    print('*** Check if file is empty using os.stat() in Python ***')\n",
    "    file_path = json_file\n",
    "    # check if size of file is 0\n",
    "    if os.stat(file_path).st_size == 0:\n",
    "        print('File is empty')\n",
    "    else:\n",
    "        print('File is not empty')\n",
    "    print('*** Check if file exist and its empty using os.stat() in Python ***')\n",
    "    file_path = json_file\n",
    "    # check if file exist and it is empty\n",
    "    is_empty = is_file_empty(file_path)\n",
    "    if is_empty:\n",
    "        print('File is empty')\n",
    "    else:\n",
    "        print('File is not empty')\n",
    "    print('*** Check if file is empty using os.path.getsize() in Python ***')\n",
    "    file_path = json_file\n",
    "    # check if size of file is 0\n",
    "    if os.path.getsize(file_path) == 0:\n",
    "        print('File is empty')\n",
    "    else:\n",
    "        print('File is not empty')\n",
    "    print('Check if file exist and its empty using os.path.getsize() in Python')\n",
    "    file_path = json_file\n",
    "    # check if file exist and it is empty\n",
    "    is_empty = is_file_empty_2(file_path)\n",
    "    if is_empty:\n",
    "        print('File is empty')\n",
    "    else:\n",
    "        print('File is not empty')\n",
    "    print('Check if file is empty by opening and it and reading its first character in Python')\n",
    "    file_path = json_file\n",
    "    # check if file is empty\n",
    "    is_empty = is_file_empty_3(file_path)\n",
    "    print(is_empty)\n"
   ],
   "metadata": {
    "collapsed": false
   }
  },
  {
   "cell_type": "code",
   "execution_count": 56,
   "outputs": [
    {
     "name": "stdout",
     "output_type": "stream",
     "text": [
      "*** Check if file is empty using os.stat() in Python ***\n",
      "File is not empty\n",
      "*** Check if file exist and its empty using os.stat() in Python ***\n",
      "File is not empty\n",
      "*** Check if file is empty using os.path.getsize() in Python ***\n",
      "File is not empty\n",
      "Check if file exist and its empty using os.path.getsize() in Python\n",
      "File is not empty\n",
      "Check if file is empty by opening and it and reading its first character in Python\n",
      "False\n"
     ]
    }
   ],
   "source": [
    "check_file('config_nb.json')"
   ],
   "metadata": {
    "collapsed": false
   }
  },
  {
   "cell_type": "code",
   "execution_count": null,
   "outputs": [],
   "source": [],
   "metadata": {
    "collapsed": false
   }
  },
  {
   "cell_type": "code",
   "execution_count": 78,
   "outputs": [],
   "source": [
    "import pandas as pd\n",
    "\n",
    "\n",
    "df = pd.read_json(\"config_nb.json\")\n",
    "df.to_csv('test.txt')"
   ],
   "metadata": {
    "collapsed": false
   }
  },
  {
   "cell_type": "code",
   "execution_count": null,
   "outputs": [],
   "source": [],
   "metadata": {
    "collapsed": false
   }
  }
 ],
 "metadata": {
  "kernelspec": {
   "display_name": "Python 3",
   "language": "python",
   "name": "python3"
  },
  "language_info": {
   "codemirror_mode": {
    "name": "ipython",
    "version": 2
   },
   "file_extension": ".py",
   "mimetype": "text/x-python",
   "name": "python",
   "nbconvert_exporter": "python",
   "pygments_lexer": "ipython2",
   "version": "2.7.6"
  }
 },
 "nbformat": 4,
 "nbformat_minor": 0
}
